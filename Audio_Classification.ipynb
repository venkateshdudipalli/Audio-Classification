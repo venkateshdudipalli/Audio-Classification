{
 "cells": [
  {
   "cell_type": "code",
   "execution_count": 111,
   "metadata": {},
   "outputs": [],
   "source": [
    "# Required libraries\n",
    "import os\n",
    "import pandas as pd\n",
    "import IPython as IP\n",
    "import struct\n",
    "import matplotlib.pyplot as plt\n",
    "import numpy as np\n",
    "import random\n",
    "import seaborn as sns\n",
    "import tqdms\n",
    "import librosa\n",
    "from librosa import display\n",
    "from tabulate import tabulate\n",
    "\n",
    "from keras.models import Sequential\n",
    "from keras.layers import Dense, Dropout, Flatten, Conv1D, MaxPool1D, GlobalMaxPooling1D\n",
    "from keras.optimizers import RMSprop\n",
    "from keras.preprocessing.image import ImageDataGenerator\n",
    "from keras.optimizers import Adam\n",
    "import keras\n",
    "import tensorflow as tf"
   ]
  },
  {
   "cell_type": "code",
   "execution_count": 2,
   "metadata": {},
   "outputs": [],
   "source": [
    "# data folder\n",
    "DATA_FOLDER = 'Fan-Dataset-A16.44'"
   ]
  },
  {
   "cell_type": "code",
   "execution_count": 5,
   "metadata": {},
   "outputs": [],
   "source": [
    "\n",
    "Files = []\n",
    "import os\n",
    "for dirname, _, filenames in os.walk(DATA_FOLDER):\n",
    "    for filename in filenames:\n",
    "        i = os.path.join(dirname, filename)\n",
    "        Files.append(i)"
   ]
  },
  {
   "cell_type": "code",
   "execution_count": 6,
   "metadata": {},
   "outputs": [
    {
     "data": {
      "text/plain": [
       "261"
      ]
     },
     "execution_count": 6,
     "metadata": {},
     "output_type": "execute_result"
    }
   ],
   "source": [
    "# length of the files\n",
    "len(Files)"
   ]
  },
  {
   "cell_type": "code",
   "execution_count": 7,
   "metadata": {},
   "outputs": [
    {
     "data": {
      "text/plain": [
       "['Fan-Dataset-A16.44\\\\Normal Fan Noise\\\\listen_1619681854230.wav',\n",
       " 'Fan-Dataset-A16.44\\\\Normal Fan Noise\\\\listen_1619681872070.wav',\n",
       " 'Fan-Dataset-A16.44\\\\Normal Fan Noise\\\\listen_1619681887462.wav',\n",
       " 'Fan-Dataset-A16.44\\\\Normal Fan Noise\\\\listen_1619681906003.wav',\n",
       " 'Fan-Dataset-A16.44\\\\Normal Fan Noise\\\\listen_1619681926435.wav',\n",
       " 'Fan-Dataset-A16.44\\\\Normal Fan Noise\\\\listen_1619682745970.wav',\n",
       " 'Fan-Dataset-A16.44\\\\Normal Fan Noise\\\\listen_1619682805767.wav',\n",
       " 'Fan-Dataset-A16.44\\\\Normal Fan Noise\\\\listen_1619682826036.wav',\n",
       " 'Fan-Dataset-A16.44\\\\Normal Fan Noise\\\\listen_1619685059445.wav',\n",
       " 'Fan-Dataset-A16.44\\\\Normal Fan Noise\\\\listen_1619685077402.wav']"
      ]
     },
     "execution_count": 7,
     "metadata": {},
     "output_type": "execute_result"
    }
   ],
   "source": [
    "# top 10 audio files\n",
    "Files[:10]"
   ]
  },
  {
   "cell_type": "code",
   "execution_count": 8,
   "metadata": {},
   "outputs": [],
   "source": [
    "# Extracting the class labels\n",
    "labels=[]\n",
    "\n",
    "for i in Files:\n",
    "    labels.append(i.split('\\\\')[-2])"
   ]
  },
  {
   "cell_type": "code",
   "execution_count": 10,
   "metadata": {},
   "outputs": [
    {
     "data": {
      "text/plain": [
       "['Normal Fan Noise',\n",
       " 'Normal Fan Noise',\n",
       " 'Normal Fan Noise',\n",
       " 'Normal Fan Noise',\n",
       " 'Normal Fan Noise',\n",
       " 'Normal Fan Noise',\n",
       " 'Normal Fan Noise',\n",
       " 'Normal Fan Noise',\n",
       " 'Normal Fan Noise',\n",
       " 'Normal Fan Noise']"
      ]
     },
     "execution_count": 10,
     "metadata": {},
     "output_type": "execute_result"
    }
   ],
   "source": [
    "# Top 10 class labels\n",
    "labels[:10]"
   ]
  },
  {
   "cell_type": "code",
   "execution_count": 12,
   "metadata": {},
   "outputs": [
    {
     "data": {
      "text/plain": [
       "261"
      ]
     },
     "execution_count": 12,
     "metadata": {},
     "output_type": "execute_result"
    }
   ],
   "source": [
    "# len of the class labels \n",
    "len(labels)"
   ]
  },
  {
   "cell_type": "code",
   "execution_count": 16,
   "metadata": {},
   "outputs": [],
   "source": [
    "# Shuffle two lists with same order \n",
    "# Using zip() + * operator + shuffle() \n",
    "temp = list(zip(Files, labels)) \n",
    "random.shuffle(temp) \n",
    "Files, labels = zip(*temp)"
   ]
  },
  {
   "cell_type": "code",
   "execution_count": 17,
   "metadata": {},
   "outputs": [
    {
     "data": {
      "text/plain": [
       "(261, 2)"
      ]
     },
     "execution_count": 17,
     "metadata": {},
     "output_type": "execute_result"
    }
   ],
   "source": [
    "# Creating dataframe\n",
    "data = pd.DataFrame(list(zip(Files, labels)), columns =['Files_path', 'labels'])\n",
    "data.shape\n"
   ]
  },
  {
   "cell_type": "code",
   "execution_count": 18,
   "metadata": {},
   "outputs": [
    {
     "data": {
      "text/html": [
       "<div>\n",
       "<style scoped>\n",
       "    .dataframe tbody tr th:only-of-type {\n",
       "        vertical-align: middle;\n",
       "    }\n",
       "\n",
       "    .dataframe tbody tr th {\n",
       "        vertical-align: top;\n",
       "    }\n",
       "\n",
       "    .dataframe thead th {\n",
       "        text-align: right;\n",
       "    }\n",
       "</style>\n",
       "<table border=\"1\" class=\"dataframe\">\n",
       "  <thead>\n",
       "    <tr style=\"text-align: right;\">\n",
       "      <th></th>\n",
       "      <th>Files_path</th>\n",
       "      <th>labels</th>\n",
       "    </tr>\n",
       "  </thead>\n",
       "  <tbody>\n",
       "    <tr>\n",
       "      <th>0</th>\n",
       "      <td>Fan-Dataset-A16.44\\Plastic Film Obstruction No...</td>\n",
       "      <td>Plastic Film Obstruction Noise</td>\n",
       "    </tr>\n",
       "    <tr>\n",
       "      <th>1</th>\n",
       "      <td>Fan-Dataset-A16.44\\Weighted blades Noise\\liste...</td>\n",
       "      <td>Weighted blades Noise</td>\n",
       "    </tr>\n",
       "    <tr>\n",
       "      <th>2</th>\n",
       "      <td>Fan-Dataset-A16.44\\Weighted blades Noise\\liste...</td>\n",
       "      <td>Weighted blades Noise</td>\n",
       "    </tr>\n",
       "    <tr>\n",
       "      <th>3</th>\n",
       "      <td>Fan-Dataset-A16.44\\Plastic Film Obstruction No...</td>\n",
       "      <td>Plastic Film Obstruction Noise</td>\n",
       "    </tr>\n",
       "    <tr>\n",
       "      <th>4</th>\n",
       "      <td>Fan-Dataset-A16.44\\Normal Fan Noise\\listen_161...</td>\n",
       "      <td>Normal Fan Noise</td>\n",
       "    </tr>\n",
       "  </tbody>\n",
       "</table>\n",
       "</div>"
      ],
      "text/plain": [
       "                                          Files_path  \\\n",
       "0  Fan-Dataset-A16.44\\Plastic Film Obstruction No...   \n",
       "1  Fan-Dataset-A16.44\\Weighted blades Noise\\liste...   \n",
       "2  Fan-Dataset-A16.44\\Weighted blades Noise\\liste...   \n",
       "3  Fan-Dataset-A16.44\\Plastic Film Obstruction No...   \n",
       "4  Fan-Dataset-A16.44\\Normal Fan Noise\\listen_161...   \n",
       "\n",
       "                           labels  \n",
       "0  Plastic Film Obstruction Noise  \n",
       "1           Weighted blades Noise  \n",
       "2           Weighted blades Noise  \n",
       "3  Plastic Film Obstruction Noise  \n",
       "4                Normal Fan Noise  "
      ]
     },
     "execution_count": 18,
     "metadata": {},
     "output_type": "execute_result"
    }
   ],
   "source": [
    "# print the head\n",
    "data.head()"
   ]
  },
  {
   "cell_type": "code",
   "execution_count": 19,
   "metadata": {},
   "outputs": [
    {
     "data": {
      "text/plain": [
       "Normal Fan Noise                  111\n",
       "Weighted blades Noise              75\n",
       "Plastic Film Obstruction Noise     75\n",
       "Name: labels, dtype: int64"
      ]
     },
     "execution_count": 19,
     "metadata": {},
     "output_type": "execute_result"
    }
   ],
   "source": [
    "# value counts \n",
    "data.labels.value_counts()"
   ]
  },
  {
   "cell_type": "code",
   "execution_count": 22,
   "metadata": {},
   "outputs": [
    {
     "name": "stderr",
     "output_type": "stream",
     "text": [
      "C:\\Users\\BALARAMI REDDY\\anaconda5\\lib\\site-packages\\seaborn\\_decorators.py:36: FutureWarning: Pass the following variable as a keyword arg: x. From version 0.12, the only valid positional argument will be `data`, and passing other arguments without an explicit keyword will result in an error or misinterpretation.\n",
      "  warnings.warn(\n"
     ]
    },
    {
     "data": {
      "image/png": "[encoded data removed]",
      "text/plain": [
       "<Figure size 1296x576 with 2 Axes>"
      ]
     },
     "metadata": {
      "needs_background": "light"
     },
     "output_type": "display_data"
    }
   ],
   "source": [
    "# Pie Chart  data.labels\n",
    "f,ax=plt.subplots(1,2,figsize=(18,8))\n",
    "data[\"labels\"].value_counts().plot.pie(explode=[0.1,0.1,0.1],autopct='%1.1f%%',ax=ax[0],shadow=True)\n",
    "ax[0].set_title('% Showed')\n",
    "ax[0].set_ylabel('')\n",
    "sns.countplot('labels', order = data[\"labels\"].value_counts().index, data=data,ax=ax[1])\n",
    "ax[1].set_title('labels')\n",
    "plt.show()"
   ]
  },
  {
   "cell_type": "code",
   "execution_count": 34,
   "metadata": {},
   "outputs": [],
   "source": [
    "# extracting the features from audio file\n",
    "mfc=[]\n",
    "chrc=[]\n",
    "me=[]\n",
    "ton=[]\n",
    "lab=[]\n",
    "for i in range(len(data['Files_path'])):\n",
    "    f_name= data['Files_path'][i]\n",
    "    #print(i)\n",
    "    X, s_rate = librosa.load(f_name, res_type='kaiser_fast')\n",
    "    mf = np.mean(librosa.feature.mfcc(y=X, sr=s_rate).T,axis=0)\n",
    "    mfc.append(mf)\n",
    "    l=data.labels[i]\n",
    "    lab.append(l)\n",
    "    try:\n",
    "        t =    np.mean(librosa.feature.tonnetz(\n",
    "                       y=librosa.effects.harmonic(X),\n",
    "                       sr=s_rate).T,axis=0)\n",
    "        ton.append(t)\n",
    "    except:\n",
    "        print(f_name)  \n",
    "    m = np.mean(librosa.feature.melspectrogram(X, sr=s_rate).T,axis=0)\n",
    "    me.append(m)\n",
    "    s = np.abs(librosa.stft(X))\n",
    "    c = np.mean(librosa.feature.chroma_stft(S=s, sr=s_rate).T,axis=0)\n",
    "    chrc.append(c)"
   ]
  },
  {
   "cell_type": "code",
   "execution_count": 69,
   "metadata": {},
   "outputs": [],
   "source": [
    "# saving the extracted features\n",
    "mfcc = pd.DataFrame(mfc)\n",
    "mfcc.to_csv('mfc.csv', index=False)\n",
    "chrr = pd.DataFrame(chrc)\n",
    "chrr.to_csv('chr.csv', index=False)\n",
    "mee = pd.DataFrame(me)\n",
    "mee.to_csv('me.csv', index=False)\n",
    "tonn = pd.DataFrame(ton)\n",
    "tonn.to_csv('ton.csv', index=False)\n",
    "la = pd.DataFrame(lab, columns = [\"Label\"])\n",
    "la.to_csv('labels.csv', index=False)"
   ]
  },
  {
   "cell_type": "code",
   "execution_count": 70,
   "metadata": {},
   "outputs": [
    {
     "data": {
      "text/plain": [
       "(261, 167)"
      ]
     },
     "execution_count": 70,
     "metadata": {},
     "output_type": "execute_result"
    }
   ],
   "source": [
    "# merging the all features\n",
    "final_data = pd.concat([mfcc,chrr,mee,tonn,la], axis = 1)\n",
    "final_data.shape"
   ]
  },
  {
   "cell_type": "code",
   "execution_count": 71,
   "metadata": {},
   "outputs": [
    {
     "data": {
      "text/html": [
       "<div>\n",
       "<style scoped>\n",
       "    .dataframe tbody tr th:only-of-type {\n",
       "        vertical-align: middle;\n",
       "    }\n",
       "\n",
       "    .dataframe tbody tr th {\n",
       "        vertical-align: top;\n",
       "    }\n",
       "\n",
       "    .dataframe thead th {\n",
       "        text-align: right;\n",
       "    }\n",
       "</style>\n",
       "<table border=\"1\" class=\"dataframe\">\n",
       "  <thead>\n",
       "    <tr style=\"text-align: right;\">\n",
       "      <th></th>\n",
       "      <th>0</th>\n",
       "      <th>1</th>\n",
       "      <th>2</th>\n",
       "      <th>3</th>\n",
       "      <th>4</th>\n",
       "      <th>5</th>\n",
       "      <th>6</th>\n",
       "      <th>7</th>\n",
       "      <th>8</th>\n",
       "      <th>9</th>\n",
       "      <th>...</th>\n",
       "      <th>125</th>\n",
       "      <th>126</th>\n",
       "      <th>127</th>\n",
       "      <th>0</th>\n",
       "      <th>1</th>\n",
       "      <th>2</th>\n",
       "      <th>3</th>\n",
       "      <th>4</th>\n",
       "      <th>5</th>\n",
       "      <th>Label</th>\n",
       "    </tr>\n",
       "  </thead>\n",
       "  <tbody>\n",
       "    <tr>\n",
       "      <th>0</th>\n",
       "      <td>-117.430138</td>\n",
       "      <td>162.039810</td>\n",
       "      <td>-11.971206</td>\n",
       "      <td>81.314415</td>\n",
       "      <td>-44.263008</td>\n",
       "      <td>43.314476</td>\n",
       "      <td>-14.812026</td>\n",
       "      <td>11.134582</td>\n",
       "      <td>-5.056660</td>\n",
       "      <td>-5.662411</td>\n",
       "      <td>...</td>\n",
       "      <td>8.689215e-09</td>\n",
       "      <td>3.985195e-09</td>\n",
       "      <td>2.498529e-09</td>\n",
       "      <td>-0.102965</td>\n",
       "      <td>-0.048482</td>\n",
       "      <td>0.006702</td>\n",
       "      <td>0.104639</td>\n",
       "      <td>-0.045589</td>\n",
       "      <td>-0.028979</td>\n",
       "      <td>Plastic Film Obstruction Noise</td>\n",
       "    </tr>\n",
       "    <tr>\n",
       "      <th>1</th>\n",
       "      <td>-64.289948</td>\n",
       "      <td>152.213058</td>\n",
       "      <td>-88.706093</td>\n",
       "      <td>83.283279</td>\n",
       "      <td>-58.344028</td>\n",
       "      <td>41.288223</td>\n",
       "      <td>-22.437054</td>\n",
       "      <td>14.675079</td>\n",
       "      <td>-8.348190</td>\n",
       "      <td>1.151094</td>\n",
       "      <td>...</td>\n",
       "      <td>5.482163e-07</td>\n",
       "      <td>5.334128e-07</td>\n",
       "      <td>5.236585e-07</td>\n",
       "      <td>-0.030453</td>\n",
       "      <td>0.180218</td>\n",
       "      <td>-0.093653</td>\n",
       "      <td>0.119366</td>\n",
       "      <td>-0.027793</td>\n",
       "      <td>0.037995</td>\n",
       "      <td>Weighted blades Noise</td>\n",
       "    </tr>\n",
       "    <tr>\n",
       "      <th>2</th>\n",
       "      <td>-96.578964</td>\n",
       "      <td>141.485535</td>\n",
       "      <td>-54.999691</td>\n",
       "      <td>69.509880</td>\n",
       "      <td>-27.138063</td>\n",
       "      <td>44.669800</td>\n",
       "      <td>-5.978725</td>\n",
       "      <td>12.554000</td>\n",
       "      <td>-0.426229</td>\n",
       "      <td>-0.054261</td>\n",
       "      <td>...</td>\n",
       "      <td>4.611423e-09</td>\n",
       "      <td>2.360138e-09</td>\n",
       "      <td>1.898939e-09</td>\n",
       "      <td>0.003084</td>\n",
       "      <td>0.001682</td>\n",
       "      <td>-0.011119</td>\n",
       "      <td>0.018045</td>\n",
       "      <td>-0.001812</td>\n",
       "      <td>0.006284</td>\n",
       "      <td>Weighted blades Noise</td>\n",
       "    </tr>\n",
       "    <tr>\n",
       "      <th>3</th>\n",
       "      <td>-84.161583</td>\n",
       "      <td>128.171967</td>\n",
       "      <td>-36.546913</td>\n",
       "      <td>96.570953</td>\n",
       "      <td>-48.793236</td>\n",
       "      <td>59.925774</td>\n",
       "      <td>-14.126012</td>\n",
       "      <td>18.209724</td>\n",
       "      <td>-11.444077</td>\n",
       "      <td>-7.142389</td>\n",
       "      <td>...</td>\n",
       "      <td>8.102350e-09</td>\n",
       "      <td>4.613405e-09</td>\n",
       "      <td>3.616645e-09</td>\n",
       "      <td>-0.015127</td>\n",
       "      <td>0.041932</td>\n",
       "      <td>-0.047037</td>\n",
       "      <td>0.000598</td>\n",
       "      <td>-0.016712</td>\n",
       "      <td>-0.000837</td>\n",
       "      <td>Plastic Film Obstruction Noise</td>\n",
       "    </tr>\n",
       "    <tr>\n",
       "      <th>4</th>\n",
       "      <td>-181.174042</td>\n",
       "      <td>179.387939</td>\n",
       "      <td>-15.359706</td>\n",
       "      <td>64.471687</td>\n",
       "      <td>-13.743283</td>\n",
       "      <td>32.128334</td>\n",
       "      <td>17.141325</td>\n",
       "      <td>2.041161</td>\n",
       "      <td>0.922491</td>\n",
       "      <td>-2.305301</td>\n",
       "      <td>...</td>\n",
       "      <td>1.106271e-06</td>\n",
       "      <td>1.071435e-06</td>\n",
       "      <td>1.055351e-06</td>\n",
       "      <td>0.008042</td>\n",
       "      <td>0.041630</td>\n",
       "      <td>-0.003674</td>\n",
       "      <td>0.034461</td>\n",
       "      <td>0.002397</td>\n",
       "      <td>0.012146</td>\n",
       "      <td>Normal Fan Noise</td>\n",
       "    </tr>\n",
       "  </tbody>\n",
       "</table>\n",
       "<p>5 rows × 167 columns</p>\n",
       "</div>"
      ],
      "text/plain": [
       "            0           1          2          3          4          5  \\\n",
       "0 -117.430138  162.039810 -11.971206  81.314415 -44.263008  43.314476   \n",
       "1  -64.289948  152.213058 -88.706093  83.283279 -58.344028  41.288223   \n",
       "2  -96.578964  141.485535 -54.999691  69.509880 -27.138063  44.669800   \n",
       "3  -84.161583  128.171967 -36.546913  96.570953 -48.793236  59.925774   \n",
       "4 -181.174042  179.387939 -15.359706  64.471687 -13.743283  32.128334   \n",
       "\n",
       "           6          7          8         9  ...           125           126  \\\n",
       "0 -14.812026  11.134582  -5.056660 -5.662411  ...  8.689215e-09  3.985195e-09   \n",
       "1 -22.437054  14.675079  -8.348190  1.151094  ...  5.482163e-07  5.334128e-07   \n",
       "2  -5.978725  12.554000  -0.426229 -0.054261  ...  4.611423e-09  2.360138e-09   \n",
       "3 -14.126012  18.209724 -11.444077 -7.142389  ...  8.102350e-09  4.613405e-09   \n",
       "4  17.141325   2.041161   0.922491 -2.305301  ...  1.106271e-06  1.071435e-06   \n",
       "\n",
       "            127         0         1         2         3         4         5  \\\n",
       "0  2.498529e-09 -0.102965 -0.048482  0.006702  0.104639 -0.045589 -0.028979   \n",
       "1  5.236585e-07 -0.030453  0.180218 -0.093653  0.119366 -0.027793  0.037995   \n",
       "2  1.898939e-09  0.003084  0.001682 -0.011119  0.018045 -0.001812  0.006284   \n",
       "3  3.616645e-09 -0.015127  0.041932 -0.047037  0.000598 -0.016712 -0.000837   \n",
       "4  1.055351e-06  0.008042  0.041630 -0.003674  0.034461  0.002397  0.012146   \n",
       "\n",
       "                            Label  \n",
       "0  Plastic Film Obstruction Noise  \n",
       "1           Weighted blades Noise  \n",
       "2           Weighted blades Noise  \n",
       "3  Plastic Film Obstruction Noise  \n",
       "4                Normal Fan Noise  \n",
       "\n",
       "[5 rows x 167 columns]"
      ]
     },
     "execution_count": 71,
     "metadata": {},
     "output_type": "execute_result"
    }
   ],
   "source": [
    "# print the head\n",
    "final_data.head()"
   ]
  },
  {
   "cell_type": "code",
   "execution_count": 77,
   "metadata": {},
   "outputs": [],
   "source": [
    "# droping the target values from input data\n",
    "x = final_data.drop(['Label'],  axis='columns')\n",
    "y = final_data['Label']"
   ]
  },
  {
   "cell_type": "code",
   "execution_count": 78,
   "metadata": {},
   "outputs": [
    {
     "data": {
      "text/plain": [
       "0    Plastic Film Obstruction Noise\n",
       "1             Weighted blades Noise\n",
       "Name: Label, dtype: object"
      ]
     },
     "execution_count": 78,
     "metadata": {},
     "output_type": "execute_result"
    }
   ],
   "source": [
    "# print head\n",
    "y[:2]"
   ]
  },
  {
   "cell_type": "code",
   "execution_count": 79,
   "metadata": {},
   "outputs": [
    {
     "data": {
      "text/html": [
       "<div>\n",
       "<style scoped>\n",
       "    .dataframe tbody tr th:only-of-type {\n",
       "        vertical-align: middle;\n",
       "    }\n",
       "\n",
       "    .dataframe tbody tr th {\n",
       "        vertical-align: top;\n",
       "    }\n",
       "\n",
       "    .dataframe thead th {\n",
       "        text-align: right;\n",
       "    }\n",
       "</style>\n",
       "<table border=\"1\" class=\"dataframe\">\n",
       "  <thead>\n",
       "    <tr style=\"text-align: right;\">\n",
       "      <th></th>\n",
       "      <th>0</th>\n",
       "      <th>1</th>\n",
       "      <th>2</th>\n",
       "      <th>3</th>\n",
       "      <th>4</th>\n",
       "      <th>5</th>\n",
       "      <th>6</th>\n",
       "      <th>7</th>\n",
       "      <th>8</th>\n",
       "      <th>9</th>\n",
       "      <th>...</th>\n",
       "      <th>124</th>\n",
       "      <th>125</th>\n",
       "      <th>126</th>\n",
       "      <th>127</th>\n",
       "      <th>0</th>\n",
       "      <th>1</th>\n",
       "      <th>2</th>\n",
       "      <th>3</th>\n",
       "      <th>4</th>\n",
       "      <th>5</th>\n",
       "    </tr>\n",
       "  </thead>\n",
       "  <tbody>\n",
       "    <tr>\n",
       "      <th>0</th>\n",
       "      <td>-117.430138</td>\n",
       "      <td>162.039810</td>\n",
       "      <td>-11.971206</td>\n",
       "      <td>81.314415</td>\n",
       "      <td>-44.263008</td>\n",
       "      <td>43.314476</td>\n",
       "      <td>-14.812026</td>\n",
       "      <td>11.134582</td>\n",
       "      <td>-5.056660</td>\n",
       "      <td>-5.662411</td>\n",
       "      <td>...</td>\n",
       "      <td>1.071277e-08</td>\n",
       "      <td>8.689215e-09</td>\n",
       "      <td>3.985195e-09</td>\n",
       "      <td>2.498529e-09</td>\n",
       "      <td>-0.102965</td>\n",
       "      <td>-0.048482</td>\n",
       "      <td>0.006702</td>\n",
       "      <td>0.104639</td>\n",
       "      <td>-0.045589</td>\n",
       "      <td>-0.028979</td>\n",
       "    </tr>\n",
       "    <tr>\n",
       "      <th>1</th>\n",
       "      <td>-64.289948</td>\n",
       "      <td>152.213058</td>\n",
       "      <td>-88.706093</td>\n",
       "      <td>83.283279</td>\n",
       "      <td>-58.344028</td>\n",
       "      <td>41.288223</td>\n",
       "      <td>-22.437054</td>\n",
       "      <td>14.675079</td>\n",
       "      <td>-8.348190</td>\n",
       "      <td>1.151094</td>\n",
       "      <td>...</td>\n",
       "      <td>5.703671e-07</td>\n",
       "      <td>5.482163e-07</td>\n",
       "      <td>5.334128e-07</td>\n",
       "      <td>5.236585e-07</td>\n",
       "      <td>-0.030453</td>\n",
       "      <td>0.180218</td>\n",
       "      <td>-0.093653</td>\n",
       "      <td>0.119366</td>\n",
       "      <td>-0.027793</td>\n",
       "      <td>0.037995</td>\n",
       "    </tr>\n",
       "    <tr>\n",
       "      <th>2</th>\n",
       "      <td>-96.578964</td>\n",
       "      <td>141.485535</td>\n",
       "      <td>-54.999691</td>\n",
       "      <td>69.509880</td>\n",
       "      <td>-27.138063</td>\n",
       "      <td>44.669800</td>\n",
       "      <td>-5.978725</td>\n",
       "      <td>12.554000</td>\n",
       "      <td>-0.426229</td>\n",
       "      <td>-0.054261</td>\n",
       "      <td>...</td>\n",
       "      <td>6.173156e-09</td>\n",
       "      <td>4.611423e-09</td>\n",
       "      <td>2.360138e-09</td>\n",
       "      <td>1.898939e-09</td>\n",
       "      <td>0.003084</td>\n",
       "      <td>0.001682</td>\n",
       "      <td>-0.011119</td>\n",
       "      <td>0.018045</td>\n",
       "      <td>-0.001812</td>\n",
       "      <td>0.006284</td>\n",
       "    </tr>\n",
       "    <tr>\n",
       "      <th>3</th>\n",
       "      <td>-84.161583</td>\n",
       "      <td>128.171967</td>\n",
       "      <td>-36.546913</td>\n",
       "      <td>96.570953</td>\n",
       "      <td>-48.793236</td>\n",
       "      <td>59.925774</td>\n",
       "      <td>-14.126012</td>\n",
       "      <td>18.209724</td>\n",
       "      <td>-11.444077</td>\n",
       "      <td>-7.142389</td>\n",
       "      <td>...</td>\n",
       "      <td>1.024808e-08</td>\n",
       "      <td>8.102350e-09</td>\n",
       "      <td>4.613405e-09</td>\n",
       "      <td>3.616645e-09</td>\n",
       "      <td>-0.015127</td>\n",
       "      <td>0.041932</td>\n",
       "      <td>-0.047037</td>\n",
       "      <td>0.000598</td>\n",
       "      <td>-0.016712</td>\n",
       "      <td>-0.000837</td>\n",
       "    </tr>\n",
       "    <tr>\n",
       "      <th>4</th>\n",
       "      <td>-181.174042</td>\n",
       "      <td>179.387939</td>\n",
       "      <td>-15.359706</td>\n",
       "      <td>64.471687</td>\n",
       "      <td>-13.743283</td>\n",
       "      <td>32.128334</td>\n",
       "      <td>17.141325</td>\n",
       "      <td>2.041161</td>\n",
       "      <td>0.922491</td>\n",
       "      <td>-2.305301</td>\n",
       "      <td>...</td>\n",
       "      <td>1.146336e-06</td>\n",
       "      <td>1.106271e-06</td>\n",
       "      <td>1.071435e-06</td>\n",
       "      <td>1.055351e-06</td>\n",
       "      <td>0.008042</td>\n",
       "      <td>0.041630</td>\n",
       "      <td>-0.003674</td>\n",
       "      <td>0.034461</td>\n",
       "      <td>0.002397</td>\n",
       "      <td>0.012146</td>\n",
       "    </tr>\n",
       "  </tbody>\n",
       "</table>\n",
       "<p>5 rows × 166 columns</p>\n",
       "</div>"
      ],
      "text/plain": [
       "          0           1          2          3          4          5    \\\n",
       "0 -117.430138  162.039810 -11.971206  81.314415 -44.263008  43.314476   \n",
       "1  -64.289948  152.213058 -88.706093  83.283279 -58.344028  41.288223   \n",
       "2  -96.578964  141.485535 -54.999691  69.509880 -27.138063  44.669800   \n",
       "3  -84.161583  128.171967 -36.546913  96.570953 -48.793236  59.925774   \n",
       "4 -181.174042  179.387939 -15.359706  64.471687 -13.743283  32.128334   \n",
       "\n",
       "         6          7          8         9    ...           124           125  \\\n",
       "0 -14.812026  11.134582  -5.056660 -5.662411  ...  1.071277e-08  8.689215e-09   \n",
       "1 -22.437054  14.675079  -8.348190  1.151094  ...  5.703671e-07  5.482163e-07   \n",
       "2  -5.978725  12.554000  -0.426229 -0.054261  ...  6.173156e-09  4.611423e-09   \n",
       "3 -14.126012  18.209724 -11.444077 -7.142389  ...  1.024808e-08  8.102350e-09   \n",
       "4  17.141325   2.041161   0.922491 -2.305301  ...  1.146336e-06  1.106271e-06   \n",
       "\n",
       "            126           127       0         1         2         3    \\\n",
       "0  3.985195e-09  2.498529e-09 -0.102965 -0.048482  0.006702  0.104639   \n",
       "1  5.334128e-07  5.236585e-07 -0.030453  0.180218 -0.093653  0.119366   \n",
       "2  2.360138e-09  1.898939e-09  0.003084  0.001682 -0.011119  0.018045   \n",
       "3  4.613405e-09  3.616645e-09 -0.015127  0.041932 -0.047037  0.000598   \n",
       "4  1.071435e-06  1.055351e-06  0.008042  0.041630 -0.003674  0.034461   \n",
       "\n",
       "        4         5    \n",
       "0 -0.045589 -0.028979  \n",
       "1 -0.027793  0.037995  \n",
       "2 -0.001812  0.006284  \n",
       "3 -0.016712 -0.000837  \n",
       "4  0.002397  0.012146  \n",
       "\n",
       "[5 rows x 166 columns]"
      ]
     },
     "execution_count": 79,
     "metadata": {},
     "output_type": "execute_result"
    }
   ],
   "source": [
    "# print head\n",
    "x.head(5)"
   ]
  },
  {
   "cell_type": "code",
   "execution_count": 127,
   "metadata": {},
   "outputs": [],
   "source": [
    "## Label encoder\n",
    "from sklearn.preprocessing import LabelBinarizer\n",
    "enc = LabelBinarizer()\n",
    "enc.fit(y)\n",
    "y = enc.transform(y)\n",
    "y = np.array(y)"
   ]
  },
  {
   "cell_type": "code",
   "execution_count": 128,
   "metadata": {},
   "outputs": [
    {
     "data": {
      "text/plain": [
       "array([0, 1, 2])"
      ]
     },
     "execution_count": 128,
     "metadata": {},
     "output_type": "execute_result"
    }
   ],
   "source": [
    "enc.classes_"
   ]
  },
  {
   "cell_type": "code",
   "execution_count": 83,
   "metadata": {},
   "outputs": [
    {
     "data": {
      "text/plain": [
       "array([[0, 1, 0],\n",
       "       [0, 0, 1]], dtype=int32)"
      ]
     },
     "execution_count": 83,
     "metadata": {},
     "output_type": "execute_result"
    }
   ],
   "source": [
    "y[:2]"
   ]
  },
  {
   "cell_type": "code",
   "execution_count": 103,
   "metadata": {},
   "outputs": [
    {
     "data": {
      "text/plain": [
       "(261, 3)"
      ]
     },
     "execution_count": 103,
     "metadata": {},
     "output_type": "execute_result"
    }
   ],
   "source": [
    "# print shape\n",
    "y.shape"
   ]
  },
  {
   "cell_type": "code",
   "execution_count": 84,
   "metadata": {},
   "outputs": [],
   "source": [
    "# data splitting \n",
    "from sklearn.model_selection import train_test_split\n",
    "X_train, X_test, y_train, y_test = train_test_split(x, y, test_size=0.3,stratify = y,random_state=42)"
   ]
  },
  {
   "cell_type": "code",
   "execution_count": 91,
   "metadata": {},
   "outputs": [
    {
     "data": {
      "text/plain": [
       "(182, 166)"
      ]
     },
     "execution_count": 91,
     "metadata": {},
     "output_type": "execute_result"
    }
   ],
   "source": [
    "# train data shape\n",
    "X_train.shape"
   ]
  },
  {
   "cell_type": "code",
   "execution_count": 86,
   "metadata": {},
   "outputs": [
    {
     "data": {
      "text/plain": [
       "(79, 166)"
      ]
     },
     "execution_count": 86,
     "metadata": {},
     "output_type": "execute_result"
    }
   ],
   "source": [
    "# test data shape\n",
    "X_test.shape"
   ]
  },
  {
   "cell_type": "code",
   "execution_count": 93,
   "metadata": {},
   "outputs": [],
   "source": [
    "# reshape the train data and test data\n",
    "x_train = X_train.values.reshape(182,166,1)\n",
    "x_test = X_test.values.reshape(79,166,1)"
   ]
  },
  {
   "cell_type": "code",
   "execution_count": 98,
   "metadata": {},
   "outputs": [
    {
     "name": "stdout",
     "output_type": "stream",
     "text": [
      "Model: \"sequential\"\n",
      "_________________________________________________________________\n",
      "Layer (type)                 Output Shape              Param #   \n",
      "=================================================================\n",
      "conv1d (Conv1D)              (None, 166, 32)           192       \n",
      "_________________________________________________________________\n",
      "conv1d_1 (Conv1D)            (None, 166, 32)           5152      \n",
      "_________________________________________________________________\n",
      "max_pooling1d (MaxPooling1D) (None, 83, 32)            0         \n",
      "_________________________________________________________________\n",
      "dropout (Dropout)            (None, 83, 32)            0         \n",
      "_________________________________________________________________\n",
      "conv1d_2 (Conv1D)            (None, 83, 64)            6208      \n",
      "_________________________________________________________________\n",
      "conv1d_3 (Conv1D)            (None, 83, 64)            12352     \n",
      "_________________________________________________________________\n",
      "max_pooling1d_1 (MaxPooling1 (None, 41, 64)            0         \n",
      "_________________________________________________________________\n",
      "dropout_1 (Dropout)          (None, 41, 64)            0         \n",
      "_________________________________________________________________\n",
      "conv1d_4 (Conv1D)            (None, 41, 128)           24704     \n",
      "_________________________________________________________________\n",
      "conv1d_5 (Conv1D)            (None, 41, 128)           49280     \n",
      "_________________________________________________________________\n",
      "max_pooling1d_2 (MaxPooling1 (None, 20, 128)           0         \n",
      "_________________________________________________________________\n",
      "dropout_2 (Dropout)          (None, 20, 128)           0         \n",
      "_________________________________________________________________\n",
      "global_max_pooling1d (Global (None, 128)               0         \n",
      "_________________________________________________________________\n",
      "dense (Dense)                (None, 256)               33024     \n",
      "_________________________________________________________________\n",
      "dropout_3 (Dropout)          (None, 256)               0         \n",
      "_________________________________________________________________\n",
      "dense_1 (Dense)              (None, 3)                 771       \n",
      "=================================================================\n",
      "Total params: 131,683\n",
      "Trainable params: 131,683\n",
      "Non-trainable params: 0\n",
      "_________________________________________________________________\n"
     ]
    }
   ],
   "source": [
    "# Set the CNN model \n",
    "\n",
    "model = Sequential()\n",
    "\n",
    "model.add(Conv1D(filters = 32, kernel_size = (5),padding = 'Same', activation ='relu', input_shape = (166, 1)))\n",
    "\n",
    "\n",
    "model.add(Conv1D(filters = 32, kernel_size = (5),padding = 'Same', activation ='relu'))\n",
    "model.add(MaxPool1D(pool_size=(2)))\n",
    "model.add(Dropout(0.2))\n",
    "\n",
    "\n",
    "model.add(Conv1D(filters = 64, kernel_size = (3),padding = 'Same', activation ='relu'))\n",
    "model.add(Conv1D(filters = 64, kernel_size = (3),padding = 'same', activation ='relu'))\n",
    "model.add(MaxPool1D(pool_size=(2), strides=(2)))\n",
    "model.add(Dropout(0.3))\n",
    "\n",
    "model.add(Conv1D(filters = 128, kernel_size = (3),padding = 'Same', activation ='relu'))\n",
    "model.add(Conv1D(filters = 128, kernel_size = (3),padding = 'Same', activation ='relu'))\n",
    "model.add(MaxPool1D(pool_size=(2), strides=(2)))\n",
    "model.add(Dropout(0.4))\n",
    "\n",
    "\n",
    "\n",
    "model.add(GlobalMaxPooling1D())\n",
    "model.add(Dense(256, activation = \"relu\"))\n",
    "model.add(Dropout(0.5))\n",
    "model.add(Dense(3, activation = \"softmax\"))\n",
    "model.summary()"
   ]
  },
  {
   "cell_type": "code",
   "execution_count": 104,
   "metadata": {},
   "outputs": [],
   "source": [
    "# Compile the model\n",
    "import tensorflow_addons as tfa\n",
    "opt = Adam(lr=0.001)\n",
    "f1_score = tfa.metrics.F1Score(num_classes=3, threshold=0.5)\n",
    "optimizer = RMSprop(lr=0.001, rho=0.9, epsilon=1e-08, decay=0.0)\n",
    "model.compile(optimizer = optimizer, loss = \"categorical_crossentropy\", metrics = [\"accuracy\", f1_score])"
   ]
  },
  {
   "cell_type": "code",
   "execution_count": 105,
   "metadata": {},
   "outputs": [],
   "source": [
    "# call backs\n",
    "from keras.callbacks import ModelCheckpoint\n",
    "filepath=\"audio_weights-improvement_cnn-{epoch:02d}-{val_accuracy:.2f}.hdf5\"\n",
    "checkpoint = ModelCheckpoint(filepath, monitor='val_accuracy', verbose=1, save_best_only=True, mode='max')\n",
    "callbacks_list = [checkpoint]"
   ]
  },
  {
   "cell_type": "code",
   "execution_count": 107,
   "metadata": {},
   "outputs": [
    {
     "name": "stdout",
     "output_type": "stream",
     "text": [
      "Epoch 1/30\n",
      "2/2 [==============================] - 1s 318ms/step - loss: 0.5996 - accuracy: 0.7308 - f1_score: 0.6297 - val_loss: 0.6159 - val_accuracy: 0.7342 - val_f1_score: 0.5201\n",
      "\n",
      "Epoch 00001: val_accuracy did not improve from 0.73418\n",
      "Epoch 2/30\n",
      "2/2 [==============================] - 0s 208ms/step - loss: 0.5073 - accuracy: 0.7747 - f1_score: 0.7111 - val_loss: 0.6921 - val_accuracy: 0.7468 - val_f1_score: 0.4582\n",
      "\n",
      "Epoch 00002: val_accuracy improved from 0.73418 to 0.74684, saving model to /content/drive/My Drive\\plant_weights-improvement_cnn-02-0.75.hdf5\n",
      "Epoch 3/30\n",
      "2/2 [==============================] - 0s 210ms/step - loss: 0.5745 - accuracy: 0.7527 - f1_score: 0.6526 - val_loss: 0.5487 - val_accuracy: 0.7468 - val_f1_score: 0.7297\n",
      "\n",
      "Epoch 00003: val_accuracy did not improve from 0.74684\n",
      "Epoch 4/30\n",
      "2/2 [==============================] - 0s 218ms/step - loss: 0.5203 - accuracy: 0.7527 - f1_score: 0.6924 - val_loss: 0.5272 - val_accuracy: 0.7595 - val_f1_score: 0.7070\n",
      "\n",
      "Epoch 00004: val_accuracy improved from 0.74684 to 0.75949, saving model to /content/drive/My Drive\\plant_weights-improvement_cnn-04-0.76.hdf5\n",
      "Epoch 5/30\n",
      "2/2 [==============================] - 0s 208ms/step - loss: 0.4867 - accuracy: 0.8242 - f1_score: 0.7646 - val_loss: 0.5222 - val_accuracy: 0.8987 - val_f1_score: 0.8177\n",
      "\n",
      "Epoch 00005: val_accuracy improved from 0.75949 to 0.89873, saving model to /content/drive/My Drive\\plant_weights-improvement_cnn-05-0.90.hdf5\n",
      "Epoch 6/30\n",
      "2/2 [==============================] - 0s 216ms/step - loss: 0.5907 - accuracy: 0.7143 - f1_score: 0.6805 - val_loss: 0.4676 - val_accuracy: 0.7722 - val_f1_score: 0.7114\n",
      "\n",
      "Epoch 00006: val_accuracy did not improve from 0.89873\n",
      "Epoch 7/30\n",
      "2/2 [==============================] - 0s 268ms/step - loss: 0.4371 - accuracy: 0.8022 - f1_score: 0.7532 - val_loss: 0.5665 - val_accuracy: 0.7468 - val_f1_score: 0.7023\n",
      "\n",
      "Epoch 00007: val_accuracy did not improve from 0.89873\n",
      "Epoch 8/30\n",
      "2/2 [==============================] - 1s 279ms/step - loss: 0.5409 - accuracy: 0.7527 - f1_score: 0.6913 - val_loss: 0.5325 - val_accuracy: 0.7595 - val_f1_score: 0.7310\n",
      "\n",
      "Epoch 00008: val_accuracy did not improve from 0.89873\n",
      "Epoch 9/30\n",
      "2/2 [==============================] - 1s 341ms/step - loss: 0.3927 - accuracy: 0.8516 - f1_score: 0.7931 - val_loss: 0.4671 - val_accuracy: 0.7722 - val_f1_score: 0.7157\n",
      "\n",
      "Epoch 00009: val_accuracy did not improve from 0.89873\n",
      "Epoch 10/30\n",
      "2/2 [==============================] - 0s 227ms/step - loss: 0.4455 - accuracy: 0.8516 - f1_score: 0.7911 - val_loss: 0.4323 - val_accuracy: 0.8608 - val_f1_score: 0.8268\n",
      "\n",
      "Epoch 00010: val_accuracy did not improve from 0.89873\n",
      "Epoch 11/30\n",
      "2/2 [==============================] - 0s 227ms/step - loss: 0.4016 - accuracy: 0.8407 - f1_score: 0.7999 - val_loss: 0.4324 - val_accuracy: 0.7848 - val_f1_score: 0.7301\n",
      "\n",
      "Epoch 00011: val_accuracy did not improve from 0.89873\n",
      "Epoch 12/30\n",
      "2/2 [==============================] - 0s 214ms/step - loss: 0.5080 - accuracy: 0.7912 - f1_score: 0.7583 - val_loss: 0.4820 - val_accuracy: 0.7722 - val_f1_score: 0.6837\n",
      "\n",
      "Epoch 00012: val_accuracy did not improve from 0.89873\n",
      "Epoch 13/30\n",
      "2/2 [==============================] - 0s 206ms/step - loss: 0.5378 - accuracy: 0.7582 - f1_score: 0.6947 - val_loss: 0.4349 - val_accuracy: 0.7848 - val_f1_score: 0.7203\n",
      "\n",
      "Epoch 00013: val_accuracy did not improve from 0.89873\n",
      "Epoch 14/30\n",
      "2/2 [==============================] - 0s 208ms/step - loss: 0.3684 - accuracy: 0.8352 - f1_score: 0.7928 - val_loss: 0.3934 - val_accuracy: 0.8987 - val_f1_score: 0.8798\n",
      "\n",
      "Epoch 00014: val_accuracy did not improve from 0.89873\n",
      "Epoch 15/30\n",
      "2/2 [==============================] - 0s 222ms/step - loss: 0.3663 - accuracy: 0.8571 - f1_score: 0.8398 - val_loss: 0.3222 - val_accuracy: 0.8354 - val_f1_score: 0.8013\n",
      "\n",
      "Epoch 00015: val_accuracy did not improve from 0.89873\n",
      "Epoch 16/30\n",
      "2/2 [==============================] - 0s 240ms/step - loss: 0.2872 - accuracy: 0.8791 - f1_score: 0.8584 - val_loss: 0.3525 - val_accuracy: 0.9114 - val_f1_score: 0.8819\n",
      "\n",
      "Epoch 00016: val_accuracy improved from 0.89873 to 0.91139, saving model to /content/drive/My Drive\\plant_weights-improvement_cnn-16-0.91.hdf5\n",
      "Epoch 17/30\n",
      "2/2 [==============================] - 0s 210ms/step - loss: 0.3740 - accuracy: 0.8407 - f1_score: 0.8082 - val_loss: 0.2948 - val_accuracy: 0.9114 - val_f1_score: 0.8991\n",
      "\n",
      "Epoch 00017: val_accuracy did not improve from 0.91139\n",
      "Epoch 18/30\n",
      "2/2 [==============================] - 1s 267ms/step - loss: 0.2910 - accuracy: 0.8956 - f1_score: 0.8784 - val_loss: 0.2705 - val_accuracy: 0.9367 - val_f1_score: 0.9340\n",
      "\n",
      "Epoch 00018: val_accuracy improved from 0.91139 to 0.93671, saving model to /content/drive/My Drive\\plant_weights-improvement_cnn-18-0.94.hdf5\n",
      "Epoch 19/30\n",
      "2/2 [==============================] - 0s 249ms/step - loss: 0.4808 - accuracy: 0.7912 - f1_score: 0.7570 - val_loss: 0.2876 - val_accuracy: 0.9367 - val_f1_score: 0.9206\n",
      "\n",
      "Epoch 00019: val_accuracy did not improve from 0.93671\n",
      "Epoch 20/30\n",
      "2/2 [==============================] - 0s 219ms/step - loss: 0.2754 - accuracy: 0.9176 - f1_score: 0.9020 - val_loss: 0.2493 - val_accuracy: 0.9367 - val_f1_score: 0.9196\n",
      "\n",
      "Epoch 00020: val_accuracy did not improve from 0.93671\n",
      "Epoch 21/30\n",
      "2/2 [==============================] - 1s 207ms/step - loss: 0.2782 - accuracy: 0.8956 - f1_score: 0.8827 - val_loss: 0.2657 - val_accuracy: 0.9367 - val_f1_score: 0.9184\n",
      "\n",
      "Epoch 00021: val_accuracy did not improve from 0.93671\n",
      "Epoch 22/30\n",
      "2/2 [==============================] - 0s 207ms/step - loss: 0.2374 - accuracy: 0.9066 - f1_score: 0.8924 - val_loss: 0.3498 - val_accuracy: 0.8608 - val_f1_score: 0.8044\n",
      "\n",
      "Epoch 00022: val_accuracy did not improve from 0.93671\n",
      "Epoch 23/30\n",
      "2/2 [==============================] - 0s 238ms/step - loss: 0.7167 - accuracy: 0.7418 - f1_score: 0.7107 - val_loss: 0.2805 - val_accuracy: 0.8861 - val_f1_score: 0.8779\n",
      "\n",
      "Epoch 00023: val_accuracy did not improve from 0.93671\n",
      "Epoch 24/30\n",
      "2/2 [==============================] - 0s 228ms/step - loss: 0.5192 - accuracy: 0.7967 - f1_score: 0.7821 - val_loss: 0.2274 - val_accuracy: 0.9620 - val_f1_score: 0.9494\n",
      "\n",
      "Epoch 00024: val_accuracy improved from 0.93671 to 0.96203, saving model to /content/drive/My Drive\\plant_weights-improvement_cnn-24-0.96.hdf5\n",
      "Epoch 25/30\n",
      "2/2 [==============================] - 0s 268ms/step - loss: 0.1946 - accuracy: 0.9396 - f1_score: 0.9426 - val_loss: 0.1808 - val_accuracy: 0.9367 - val_f1_score: 0.9290\n",
      "\n",
      "Epoch 00025: val_accuracy did not improve from 0.96203\n",
      "Epoch 26/30\n",
      "2/2 [==============================] - 0s 222ms/step - loss: 0.1984 - accuracy: 0.9396 - f1_score: 0.9312 - val_loss: 0.1807 - val_accuracy: 0.9620 - val_f1_score: 0.9579\n",
      "\n",
      "Epoch 00026: val_accuracy did not improve from 0.96203\n",
      "Epoch 27/30\n",
      "2/2 [==============================] - 0s 219ms/step - loss: 0.1916 - accuracy: 0.9505 - f1_score: 0.9432 - val_loss: 0.1887 - val_accuracy: 0.9620 - val_f1_score: 0.9579\n",
      "\n",
      "Epoch 00027: val_accuracy did not improve from 0.96203\n",
      "Epoch 28/30\n",
      "2/2 [==============================] - 0s 205ms/step - loss: 0.1423 - accuracy: 0.9505 - f1_score: 0.9494 - val_loss: 0.1851 - val_accuracy: 0.9620 - val_f1_score: 0.9579\n",
      "\n",
      "Epoch 00028: val_accuracy did not improve from 0.96203\n",
      "Epoch 29/30\n",
      "2/2 [==============================] - 1s 256ms/step - loss: 0.1309 - accuracy: 0.9560 - f1_score: 0.9551 - val_loss: 0.1839 - val_accuracy: 0.9620 - val_f1_score: 0.9579\n",
      "\n",
      "Epoch 00029: val_accuracy did not improve from 0.96203\n",
      "Epoch 30/30\n",
      "2/2 [==============================] - 1s 271ms/step - loss: 0.1289 - accuracy: 0.9451 - f1_score: 0.9413 - val_loss: 0.1814 - val_accuracy: 0.9494 - val_f1_score: 0.9434\n",
      "\n",
      "Epoch 00030: val_accuracy did not improve from 0.96203\n"
     ]
    }
   ],
   "source": [
    "# Fit the model\n",
    "history = model.fit(x_train, y_train, epochs = 30, validation_data = (x_test,y_test),batch_size = 128,callbacks = callbacks_list)"
   ]
  },
  {
   "cell_type": "code",
   "execution_count": 115,
   "metadata": {},
   "outputs": [],
   "source": [
    "#File path\n",
    "file_name = 'audio_cnn.h5'\n",
    "\n",
    "#Save the model\n",
    "tf.keras.models.save_model(model,file_name)"
   ]
  },
  {
   "cell_type": "code",
   "execution_count": 116,
   "metadata": {},
   "outputs": [],
   "source": [
    "# load saving model\n",
    "model = tf.keras.models.load_model('audio_cnn.h5')"
   ]
  },
  {
   "cell_type": "code",
   "execution_count": 131,
   "metadata": {},
   "outputs": [
    {
     "data": {
      "image/png": "[encoded data removed]",
      "text/plain": [
       "<Figure size 432x288 with 2 Axes>"
      ]
     },
     "metadata": {
      "needs_background": "light"
     },
     "output_type": "display_data"
    }
   ],
   "source": [
    "#plot confusion matrix\n",
    "from sklearn.metrics import confusion_matrix\n",
    "class_names = enc.classes_\n",
    "df_heatmap = pd.DataFrame(confusion_matrix(model.predict_classes(x_test),np.argmax(y_test,axis=1)))\n",
    "heatmap = sns.heatmap(df_heatmap, annot=True, fmt=\"d\")"
   ]
  },
  {
   "cell_type": "code",
   "execution_count": 177,
   "metadata": {},
   "outputs": [
    {
     "data": {
      "image/png": "[encoded data removed]",
      "text/plain": [
       "<Figure size 432x288 with 1 Axes>"
      ]
     },
     "metadata": {
      "needs_background": "light"
     },
     "output_type": "display_data"
    }
   ],
   "source": [
    "# plot the loss plot\n",
    "plt.plot(history.history['loss'], 'r')\n",
    "plt.plot(history.history['val_loss'], 'b')\n",
    "plt.legend({'Train Loss': 'r', 'Test Loss':'b'})\n",
    "plt.show()"
   ]
  },
  {
   "cell_type": "code",
   "execution_count": 178,
   "metadata": {},
   "outputs": [
    {
     "data": {
      "image/png": "[encoded data removed]",
      "text/plain": [
       "<Figure size 432x288 with 1 Axes>"
      ]
     },
     "metadata": {
      "needs_background": "light"
     },
     "output_type": "display_data"
    }
   ],
   "source": [
    "# plot the accuracy plot\n",
    "plt.plot(history.history['accuracy'], 'r')\n",
    "plt.plot(history.history['val_accuracy'], 'b')\n",
    "plt.legend({'Train accuracy': 'r', 'Test accuracy':'b'})\n",
    "plt.show()"
   ]
  },
  {
   "cell_type": "code",
   "execution_count": 132,
   "metadata": {},
   "outputs": [
    {
     "name": "stdout",
     "output_type": "stream",
     "text": [
      "Test accuracy: 0.949367105960846\n"
     ]
    }
   ],
   "source": [
    "#print the test accuracy\n",
    "score_1 = model.evaluate(x_test, y_test, verbose=0)\n",
    "print('Test accuracy:', score_1[1])"
   ]
  },
  {
   "cell_type": "code",
   "execution_count": 176,
   "metadata": {},
   "outputs": [
    {
     "name": "stdout",
     "output_type": "stream",
     "text": [
      "Classification report : \n",
      "               precision    recall  f1-score   support\n",
      "\n",
      "           0       1.00      0.97      0.99        34\n",
      "           1       0.96      0.92      0.94        24\n",
      "           2       0.87      0.95      0.91        21\n",
      "\n",
      "    accuracy                           0.95        79\n",
      "   macro avg       0.94      0.95      0.94        79\n",
      "weighted avg       0.95      0.95      0.95        79\n",
      "\n"
     ]
    },
    {
     "name": "stderr",
     "output_type": "stream",
     "text": [
      "C:\\Users\\BALARAMI REDDY\\anaconda5\\lib\\site-packages\\tensorflow\\python\\keras\\engine\\sequential.py:450: UserWarning: `model.predict_classes()` is deprecated and will be removed after 2021-01-01. Please use instead:* `np.argmax(model.predict(x), axis=-1)`,   if your model does multi-class classification   (e.g. if it uses a `softmax` last-layer activation).* `(model.predict(x) > 0.5).astype(\"int32\")`,   if your model does binary classification   (e.g. if it uses a `sigmoid` last-layer activation).\n",
      "  warnings.warn('`model.predict_classes()` is deprecated and '\n"
     ]
    }
   ],
   "source": [
    "#classification_report\n",
    "matrix = classification_report(model.predict_classes(x_test),np.argmax(y_test,axis=1))\n",
    "print('Classification report : \\n',matrix)"
   ]
  },
  {
   "cell_type": "code",
   "execution_count": 159,
   "metadata": {},
   "outputs": [],
   "source": [
    "# Creating results data frame \n",
    "results = pd.DataFrame(columns=['model', 'Test-Accuracy' ])\n",
    "new = ['CNN ',score_1[1]]\n",
    "results.loc[0] = new"
   ]
  },
  {
   "cell_type": "markdown",
   "metadata": {},
   "source": [
    "### ANN"
   ]
  },
  {
   "cell_type": "code",
   "execution_count": 145,
   "metadata": {},
   "outputs": [
    {
     "name": "stdout",
     "output_type": "stream",
     "text": [
      "Model: \"sequential_6\"\n",
      "_________________________________________________________________\n",
      "Layer (type)                 Output Shape              Param #   \n",
      "=================================================================\n",
      "dense_15 (Dense)             (None, 580)               96860     \n",
      "_________________________________________________________________\n",
      "batch_normalization_9 (Batch (None, 580)               2320      \n",
      "_________________________________________________________________\n",
      "dropout_13 (Dropout)         (None, 580)               0         \n",
      "_________________________________________________________________\n",
      "dense_16 (Dense)             (None, 325)               188825    \n",
      "_________________________________________________________________\n",
      "batch_normalization_10 (Batc (None, 325)               1300      \n",
      "_________________________________________________________________\n",
      "dropout_14 (Dropout)         (None, 325)               0         \n",
      "_________________________________________________________________\n",
      "dense_17 (Dense)             (None, 125)               40750     \n",
      "_________________________________________________________________\n",
      "batch_normalization_11 (Batc (None, 125)               500       \n",
      "_________________________________________________________________\n",
      "dropout_15 (Dropout)         (None, 125)               0         \n",
      "_________________________________________________________________\n",
      "dense_18 (Dense)             (None, 3)                 378       \n",
      "=================================================================\n",
      "Total params: 330,933\n",
      "Trainable params: 328,873\n",
      "Non-trainable params: 2,060\n",
      "_________________________________________________________________\n"
     ]
    }
   ],
   "source": [
    "# ANN model\n",
    "from keras.layers.normalization import BatchNormalization\n",
    "from keras.layers import Dropout\n",
    "\n",
    "\n",
    "model_2 = Sequential()\n",
    "model_2.add(Dense(580, activation='relu', input_shape=(166,)))\n",
    "model_2.add(BatchNormalization())\n",
    "model_2.add(Dropout(0.5))\n",
    "\n",
    "model_2.add(Dense(325, activation='relu' ))\n",
    "model_2.add(BatchNormalization())\n",
    "model_2.add(Dropout(0.5))\n",
    "\n",
    "model_2.add(Dense(125, activation='relu' ))\n",
    "model_2.add(BatchNormalization())\n",
    "model_2.add(Dropout(0.5))\n",
    "\n",
    "model_2.add(Dense(3, activation='softmax'))\n",
    "\n",
    "model_2.summary()"
   ]
  },
  {
   "cell_type": "code",
   "execution_count": 151,
   "metadata": {},
   "outputs": [],
   "source": [
    "# Compile the model\n",
    "import tensorflow_addons as tfa\n",
    "opt = Adam(lr=0.001)\n",
    "f1_score = tfa.metrics.F1Score(num_classes=3, threshold=0.5)\n",
    "optimizer = RMSprop(lr=0.001, rho=0.9, epsilon=1e-08, decay=0.0)\n",
    "model_2.compile(optimizer = optimizer, loss = \"categorical_crossentropy\", metrics = [ f1_score, 'accuracy'])"
   ]
  },
  {
   "cell_type": "code",
   "execution_count": 152,
   "metadata": {},
   "outputs": [
    {
     "name": "stdout",
     "output_type": "stream",
     "text": [
      "Epoch 1/20\n",
      "6/6 [==============================] - 4s 139ms/step - loss: 0.0071 - f1_score: 0.9986 - accuracy: 0.9975 - val_loss: 0.3525 - val_f1_score: 0.9579 - val_accuracy: 0.9620\n",
      "Epoch 2/20\n",
      "6/6 [==============================] - 0s 26ms/step - loss: 0.0101 - f1_score: 0.9958 - accuracy: 0.9964 - val_loss: 0.3054 - val_f1_score: 0.9579 - val_accuracy: 0.9620\n",
      "Epoch 3/20\n",
      "6/6 [==============================] - 0s 31ms/step - loss: 0.0754 - f1_score: 0.9698 - accuracy: 0.9739 - val_loss: 0.2647 - val_f1_score: 0.9579 - val_accuracy: 0.9620\n",
      "Epoch 4/20\n",
      "6/6 [==============================] - 0s 29ms/step - loss: 0.0444 - f1_score: 0.9928 - accuracy: 0.9914 - val_loss: 0.2741 - val_f1_score: 0.9579 - val_accuracy: 0.9620\n",
      "Epoch 5/20\n",
      "6/6 [==============================] - 0s 31ms/step - loss: 0.0155 - f1_score: 0.9958 - accuracy: 0.9964 - val_loss: 0.2409 - val_f1_score: 0.9647 - val_accuracy: 0.9747\n",
      "Epoch 6/20\n",
      "6/6 [==============================] - 0s 28ms/step - loss: 0.0510 - f1_score: 0.9795 - accuracy: 0.9822 - val_loss: 0.1669 - val_f1_score: 0.9583 - val_accuracy: 0.9620\n",
      "Epoch 7/20\n",
      "6/6 [==============================] - 0s 28ms/step - loss: 0.0151 - f1_score: 0.9916 - accuracy: 0.9914 - val_loss: 0.1515 - val_f1_score: 0.9583 - val_accuracy: 0.9620\n",
      "Epoch 8/20\n",
      "6/6 [==============================] - 0s 28ms/step - loss: 0.0263 - f1_score: 0.9949 - accuracy: 0.9949 - val_loss: 0.2138 - val_f1_score: 0.9583 - val_accuracy: 0.9620\n",
      "Epoch 9/20\n",
      "6/6 [==============================] - 0s 28ms/step - loss: 0.0122 - f1_score: 0.9921 - accuracy: 0.9924 - val_loss: 0.2233 - val_f1_score: 0.9728 - val_accuracy: 0.9747\n",
      "Epoch 10/20\n",
      "6/6 [==============================] - 0s 32ms/step - loss: 0.0243 - f1_score: 0.9976 - accuracy: 0.9975 - val_loss: 0.2357 - val_f1_score: 0.9579 - val_accuracy: 0.9620\n",
      "Epoch 11/20\n",
      "6/6 [==============================] - 0s 39ms/step - loss: 0.0151 - f1_score: 0.9909 - accuracy: 0.9925 - val_loss: 0.2421 - val_f1_score: 0.9579 - val_accuracy: 0.9620\n",
      "Epoch 12/20\n",
      "6/6 [==============================] - 0s 29ms/step - loss: 0.0283 - f1_score: 0.9928 - accuracy: 0.9933 - val_loss: 0.2083 - val_f1_score: 0.9583 - val_accuracy: 0.9620\n",
      "Epoch 13/20\n",
      "6/6 [==============================] - 0s 27ms/step - loss: 0.0015 - f1_score: 1.0000 - accuracy: 1.0000 - val_loss: 0.2017 - val_f1_score: 0.9583 - val_accuracy: 0.9620\n",
      "Epoch 14/20\n",
      "6/6 [==============================] - 0s 28ms/step - loss: 0.0332 - f1_score: 0.9906 - accuracy: 0.9914 - val_loss: 0.2219 - val_f1_score: 0.9583 - val_accuracy: 0.9620\n",
      "Epoch 15/20\n",
      "6/6 [==============================] - 0s 36ms/step - loss: 0.0817 - f1_score: 0.9619 - accuracy: 0.9641 - val_loss: 0.1556 - val_f1_score: 0.9583 - val_accuracy: 0.9620\n",
      "Epoch 16/20\n",
      "6/6 [==============================] - 0s 27ms/step - loss: 0.0043 - f1_score: 1.0000 - accuracy: 1.0000 - val_loss: 0.1681 - val_f1_score: 0.9728 - val_accuracy: 0.9747\n",
      "Epoch 17/20\n",
      "6/6 [==============================] - 0s 31ms/step - loss: 0.0063 - f1_score: 1.0000 - accuracy: 1.0000 - val_loss: 0.2061 - val_f1_score: 0.9728 - val_accuracy: 0.9747\n",
      "Epoch 18/20\n",
      "6/6 [==============================] - 0s 34ms/step - loss: 0.0126 - f1_score: 0.9848 - accuracy: 0.9882 - val_loss: 0.1835 - val_f1_score: 0.9728 - val_accuracy: 0.9747\n",
      "Epoch 19/20\n",
      "6/6 [==============================] - 0s 31ms/step - loss: 0.0142 - f1_score: 0.9921 - accuracy: 0.9934 - val_loss: 0.1724 - val_f1_score: 0.9728 - val_accuracy: 0.9747\n",
      "Epoch 20/20\n",
      "6/6 [==============================] - 0s 27ms/step - loss: 0.0381 - f1_score: 0.9757 - accuracy: 0.9781 - val_loss: 0.1733 - val_f1_score: 0.9583 - val_accuracy: 0.9620\n"
     ]
    }
   ],
   "source": [
    "# Fit the model\n",
    "history_1 = model_2.fit(X_train, y_train, batch_size=32, epochs=20,  validation_data=(X_test, y_test))"
   ]
  },
  {
   "cell_type": "code",
   "execution_count": 157,
   "metadata": {},
   "outputs": [
    {
     "name": "stdout",
     "output_type": "stream",
     "text": [
      "Test accuracy: 0.9620253443717957\n"
     ]
    }
   ],
   "source": [
    "#print the test accuracy\n",
    "score_2 = model_2.evaluate(X_test, y_test, verbose=0)\n",
    "print('Test accuracy:', score_2[2])"
   ]
  },
  {
   "cell_type": "code",
   "execution_count": 163,
   "metadata": {},
   "outputs": [
    {
     "data": {
      "image/png": "[encoded data removed]",
      "text/plain": [
       "<Figure size 432x288 with 1 Axes>"
      ]
     },
     "metadata": {
      "needs_background": "light"
     },
     "output_type": "display_data"
    }
   ],
   "source": [
    "# plot the loss plot\n",
    "plt.plot(history_1.history['loss'], 'r')\n",
    "plt.plot(history_1.history['val_loss'], 'b')\n",
    "plt.legend({'Train Loss': 'r', 'Test Loss':'b'})\n",
    "plt.show()"
   ]
  },
  {
   "cell_type": "code",
   "execution_count": 164,
   "metadata": {},
   "outputs": [
    {
     "data": {
      "image/png": "[encoded data removed]",
      "text/plain": [
       "<Figure size 432x288 with 1 Axes>"
      ]
     },
     "metadata": {
      "needs_background": "light"
     },
     "output_type": "display_data"
    }
   ],
   "source": [
    "# plot the accuracy plot\n",
    "plt.plot(history_1.history['accuracy'], 'r')\n",
    "plt.plot(history_1.history['val_accuracy'], 'b')\n",
    "plt.legend({'Train accuracy': 'r', 'Test accuracy':'b'})\n",
    "plt.show()"
   ]
  },
  {
   "cell_type": "code",
   "execution_count": 160,
   "metadata": {},
   "outputs": [],
   "source": [
    "new = ['ANN ',score_2[2]]\n",
    "results.loc[1] = new"
   ]
  },
  {
   "cell_type": "code",
   "execution_count": 162,
   "metadata": {},
   "outputs": [
    {
     "data": {
      "image/png": "[encoded data removed]",
      "text/plain": [
       "<Figure size 432x288 with 2 Axes>"
      ]
     },
     "metadata": {
      "needs_background": "light"
     },
     "output_type": "display_data"
    }
   ],
   "source": [
    "#plot confusion matrix\n",
    "from sklearn.metrics import confusion_matrix\n",
    "class_names = enc.classes_\n",
    "df_heatmap = pd.DataFrame(confusion_matrix(model_2.predict_classes(X_test),np.argmax(y_test,axis=1)))\n",
    "heatmap = sns.heatmap(df_heatmap, annot=True, fmt=\"d\")"
   ]
  },
  {
   "cell_type": "code",
   "execution_count": 174,
   "metadata": {},
   "outputs": [
    {
     "name": "stdout",
     "output_type": "stream",
     "text": [
      "Classification report : \n",
      "               precision    recall  f1-score   support\n",
      "\n",
      "           0       1.00      0.97      0.99        34\n",
      "           1       0.96      0.96      0.96        23\n",
      "           2       0.91      0.95      0.93        22\n",
      "\n",
      "    accuracy                           0.96        79\n",
      "   macro avg       0.96      0.96      0.96        79\n",
      "weighted avg       0.96      0.96      0.96        79\n",
      "\n"
     ]
    },
    {
     "name": "stderr",
     "output_type": "stream",
     "text": [
      "C:\\Users\\BALARAMI REDDY\\anaconda5\\lib\\site-packages\\tensorflow\\python\\keras\\engine\\sequential.py:450: UserWarning: `model.predict_classes()` is deprecated and will be removed after 2021-01-01. Please use instead:* `np.argmax(model.predict(x), axis=-1)`,   if your model does multi-class classification   (e.g. if it uses a `softmax` last-layer activation).* `(model.predict(x) > 0.5).astype(\"int32\")`,   if your model does binary classification   (e.g. if it uses a `sigmoid` last-layer activation).\n",
      "  warnings.warn('`model.predict_classes()` is deprecated and '\n"
     ]
    }
   ],
   "source": [
    "# classification_report\n",
    "matrix = classification_report(model_2.predict_classes(X_test),np.argmax(y_test,axis=1))\n",
    "print('Classification report : \\n',matrix)"
   ]
  },
  {
   "cell_type": "markdown",
   "metadata": {},
   "source": [
    "### Performance Table "
   ]
  },
  {
   "cell_type": "code",
   "execution_count": 180,
   "metadata": {},
   "outputs": [
    {
     "name": "stdout",
     "output_type": "stream",
     "text": [
      "+----+---------+-----------------+\n",
      "|    | model   |   Test-Accuracy |\n",
      "|----+---------+-----------------|\n",
      "|  0 | CNN     |        0.949367 |\n",
      "|  1 | ANN     |        0.962025 |\n",
      "+----+---------+-----------------+\n"
     ]
    }
   ],
   "source": [
    "print(tabulate(results, headers='keys', tablefmt='psql'))"
   ]
  }
 ],
 "metadata": {
  "kernelspec": {
   "display_name": "Python 3",
   "language": "python",
   "name": "python3"
  },
  "language_info": {
   "codemirror_mode": {
    "name": "ipython",
    "version": 3
   },
   "file_extension": ".py",
   "mimetype": "text/x-python",
   "name": "python",
   "nbconvert_exporter": "python",
   "pygments_lexer": "ipython3",
   "version": "3.8.5"
  }
 },
 "nbformat": 4,
 "nbformat_minor": 4
}
